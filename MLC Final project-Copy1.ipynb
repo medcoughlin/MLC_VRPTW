{
 "cells": [
  {
   "cell_type": "code",
   "execution_count": 26,
   "id": "9a944801",
   "metadata": {},
   "outputs": [],
   "source": [
    "import numpy as np\n",
    "import pandas as pd\n",
    "import matplotlib.pyplot as plt\n",
    "from matplotlib import rcParams\n",
    "rcParams['figure.figsize'] = 9, 6"
   ]
  },
  {
   "cell_type": "code",
   "execution_count": 27,
   "id": "cbfacac3",
   "metadata": {},
   "outputs": [
    {
     "data": {
      "text/html": [
       "<div>\n",
       "<style scoped>\n",
       "    .dataframe tbody tr th:only-of-type {\n",
       "        vertical-align: middle;\n",
       "    }\n",
       "\n",
       "    .dataframe tbody tr th {\n",
       "        vertical-align: top;\n",
       "    }\n",
       "\n",
       "    .dataframe thead th {\n",
       "        text-align: right;\n",
       "    }\n",
       "</style>\n",
       "<table border=\"1\" class=\"dataframe\">\n",
       "  <thead>\n",
       "    <tr style=\"text-align: right;\">\n",
       "      <th></th>\n",
       "      <th>CUST NO.</th>\n",
       "      <th>XCOORD.</th>\n",
       "      <th>YCOORD.</th>\n",
       "      <th>DEMAND</th>\n",
       "      <th>READY TIME</th>\n",
       "      <th>DUE DATE</th>\n",
       "      <th>SERVICE TIME</th>\n",
       "    </tr>\n",
       "  </thead>\n",
       "  <tbody>\n",
       "    <tr>\n",
       "      <th>0</th>\n",
       "      <td>0</td>\n",
       "      <td>70</td>\n",
       "      <td>70</td>\n",
       "      <td>0</td>\n",
       "      <td>0</td>\n",
       "      <td>1351</td>\n",
       "      <td>0</td>\n",
       "    </tr>\n",
       "    <tr>\n",
       "      <th>1</th>\n",
       "      <td>1</td>\n",
       "      <td>33</td>\n",
       "      <td>78</td>\n",
       "      <td>20</td>\n",
       "      <td>750</td>\n",
       "      <td>809</td>\n",
       "      <td>90</td>\n",
       "    </tr>\n",
       "    <tr>\n",
       "      <th>2</th>\n",
       "      <td>2</td>\n",
       "      <td>59</td>\n",
       "      <td>52</td>\n",
       "      <td>20</td>\n",
       "      <td>0</td>\n",
       "      <td>1240</td>\n",
       "      <td>90</td>\n",
       "    </tr>\n",
       "    <tr>\n",
       "      <th>3</th>\n",
       "      <td>3</td>\n",
       "      <td>10</td>\n",
       "      <td>137</td>\n",
       "      <td>30</td>\n",
       "      <td>147</td>\n",
       "      <td>219</td>\n",
       "      <td>90</td>\n",
       "    </tr>\n",
       "    <tr>\n",
       "      <th>4</th>\n",
       "      <td>4</td>\n",
       "      <td>4</td>\n",
       "      <td>28</td>\n",
       "      <td>10</td>\n",
       "      <td>0</td>\n",
       "      <td>1183</td>\n",
       "      <td>90</td>\n",
       "    </tr>\n",
       "    <tr>\n",
       "      <th>...</th>\n",
       "      <td>...</td>\n",
       "      <td>...</td>\n",
       "      <td>...</td>\n",
       "      <td>...</td>\n",
       "      <td>...</td>\n",
       "      <td>...</td>\n",
       "      <td>...</td>\n",
       "    </tr>\n",
       "    <tr>\n",
       "      <th>196</th>\n",
       "      <td>196</td>\n",
       "      <td>91</td>\n",
       "      <td>108</td>\n",
       "      <td>10</td>\n",
       "      <td>0</td>\n",
       "      <td>1218</td>\n",
       "      <td>90</td>\n",
       "    </tr>\n",
       "    <tr>\n",
       "      <th>197</th>\n",
       "      <td>197</td>\n",
       "      <td>130</td>\n",
       "      <td>27</td>\n",
       "      <td>30</td>\n",
       "      <td>229</td>\n",
       "      <td>280</td>\n",
       "      <td>90</td>\n",
       "    </tr>\n",
       "    <tr>\n",
       "      <th>198</th>\n",
       "      <td>198</td>\n",
       "      <td>101</td>\n",
       "      <td>107</td>\n",
       "      <td>10</td>\n",
       "      <td>1038</td>\n",
       "      <td>1090</td>\n",
       "      <td>90</td>\n",
       "    </tr>\n",
       "    <tr>\n",
       "      <th>199</th>\n",
       "      <td>199</td>\n",
       "      <td>34</td>\n",
       "      <td>108</td>\n",
       "      <td>10</td>\n",
       "      <td>0</td>\n",
       "      <td>1209</td>\n",
       "      <td>90</td>\n",
       "    </tr>\n",
       "    <tr>\n",
       "      <th>200</th>\n",
       "      <td>200</td>\n",
       "      <td>131</td>\n",
       "      <td>31</td>\n",
       "      <td>20</td>\n",
       "      <td>0</td>\n",
       "      <td>1189</td>\n",
       "      <td>90</td>\n",
       "    </tr>\n",
       "  </tbody>\n",
       "</table>\n",
       "<p>201 rows × 7 columns</p>\n",
       "</div>"
      ],
      "text/plain": [
       "     CUST NO.  XCOORD.  YCOORD.  DEMAND  READY TIME  DUE DATE  SERVICE TIME\n",
       "0           0       70       70       0           0      1351             0\n",
       "1           1       33       78      20         750       809            90\n",
       "2           2       59       52      20           0      1240            90\n",
       "3           3       10      137      30         147       219            90\n",
       "4           4        4       28      10           0      1183            90\n",
       "..        ...      ...      ...     ...         ...       ...           ...\n",
       "196       196       91      108      10           0      1218            90\n",
       "197       197      130       27      30         229       280            90\n",
       "198       198      101      107      10        1038      1090            90\n",
       "199       199       34      108      10           0      1209            90\n",
       "200       200      131       31      20           0      1189            90\n",
       "\n",
       "[201 rows x 7 columns]"
      ]
     },
     "execution_count": 27,
     "metadata": {},
     "output_type": "execute_result"
    }
   ],
   "source": [
    "data1"
   ]
  },
  {
   "cell_type": "code",
   "execution_count": null,
   "id": "be2541ec",
   "metadata": {},
   "outputs": [],
   "source": []
  },
  {
   "cell_type": "code",
   "execution_count": 28,
   "id": "faf88450",
   "metadata": {},
   "outputs": [],
   "source": [
    "data1['XCOORD.'] = data1['XCOORD.'].astype('int')\n",
    "data1['YCOORD.'] = data1['YCOORD.'].astype('int')"
   ]
  },
  {
   "cell_type": "code",
   "execution_count": 29,
   "id": "2901f247",
   "metadata": {},
   "outputs": [
    {
     "data": {
      "text/plain": [
       "0       70\n",
       "1       33\n",
       "2       59\n",
       "3       10\n",
       "4        4\n",
       "      ... \n",
       "196     91\n",
       "197    130\n",
       "198    101\n",
       "199     34\n",
       "200    131\n",
       "Name: XCOORD., Length: 201, dtype: int64"
      ]
     },
     "execution_count": 29,
     "metadata": {},
     "output_type": "execute_result"
    }
   ],
   "source": [
    "data1['XCOORD.']"
   ]
  },
  {
   "cell_type": "code",
   "execution_count": 36,
   "id": "f02e23a1",
   "metadata": {},
   "outputs": [
    {
     "data": {
      "image/png": "[encoded data removed]",
      "text/plain": [
       "<Figure size 648x432 with 1 Axes>"
      ]
     },
     "metadata": {
      "needs_background": "light"
     },
     "output_type": "display_data"
    }
   ],
   "source": [
    "data1=pd.read_csv('MLC_project_data.csv')\n",
    "X=data1['XCOORD.']\n",
    "Y=data1[\"YCOORD.\"]\n",
    "plt.gca()\n",
    "plt.scatter(X,Y, s=20, c=Y, cmap=plt.cm.get_cmap('coolwarm', 9))\n",
    "plt.show()"
   ]
  },
  {
   "cell_type": "code",
   "execution_count": null,
   "id": "2c401638",
   "metadata": {},
   "outputs": [],
   "source": []
  },
  {
   "cell_type": "code",
   "execution_count": null,
   "id": "98cf05f8",
   "metadata": {},
   "outputs": [],
   "source": []
  },
  {
   "cell_type": "code",
   "execution_count": null,
   "id": "8b21e873",
   "metadata": {},
   "outputs": [],
   "source": []
  },
  {
   "cell_type": "code",
   "execution_count": null,
   "id": "f86684c8",
   "metadata": {},
   "outputs": [],
   "source": []
  }
 ],
 "metadata": {
  "kernelspec": {
   "display_name": "Python 3 (ipykernel)",
   "language": "python",
   "name": "python3"
  },
  "language_info": {
   "codemirror_mode": {
    "name": "ipython",
    "version": 3
   },
   "file_extension": ".py",
   "mimetype": "text/x-python",
   "name": "python",
   "nbconvert_exporter": "python",
   "pygments_lexer": "ipython3",
   "version": "3.9.12"
  }
 },
 "nbformat": 4,
 "nbformat_minor": 5
}
