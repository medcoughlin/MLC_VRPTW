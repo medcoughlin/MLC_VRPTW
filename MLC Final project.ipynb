{
 "cells": [
  {
   "cell_type": "code",
   "execution_count": 3,
   "id": "9a944801",
   "metadata": {},
   "outputs": [],
   "source": [
    "import numpy as np\n",
    "import pandas as pd\n",
    "import matplotlib.pyplot as plt\n",
    "from matplotlib import rcParams\n",
    "from pathlib import Path\n",
    "import os\n",
    "import csv\n",
    "import os\n",
    "# os.environ[\"OMP_NUM_THREADS\"] = '1'\n",
    "from sklearn.cluster import KMeans\n",
    "# rcParams['figure.figsize'] = 9, 6\n",
    "import networkx as nx"
   ]
  },
  {
   "cell_type": "code",
   "execution_count": 4,
   "id": "88a5dea7",
   "metadata": {},
   "outputs": [],
   "source": [
    "# os.chdir('C:/Users/medco/OneDrive/Documents/GitHub/MLC_VRPTW/data_mlc')\n",
    "# files = os.listdir('C:/Users/medco/OneDrive/Documents/GitHub/MLC_VRPTW/data_mlc')\n",
    "\n",
    "# datanames = []\n",
    "\n",
    "# for f in files:\n",
    "#     name = f[16:len(f)-4]\n",
    "#     datanames.append(name)\n",
    "#     try:\n",
    "#         df = pd.read_csv('{}'.format(f))\n",
    "#         vars()['df_'+name] = df\n",
    "#     except KeyError:\n",
    "#         print('help!')\n",
    "#         continue\n"
   ]
  },
  {
   "cell_type": "code",
   "execution_count": 6,
   "id": "5cf9caef",
   "metadata": {},
   "outputs": [],
   "source": [
    "# X = np.asarray(df__C1_2_1['XCOORD.'])\n",
    "# Y = np.asarray(df__C1_2_1['YCOORD.'])\n",
    "# XY = np.array((X,Y)).T\n",
    "# XY"
   ]
  },
  {
   "cell_type": "code",
   "execution_count": 5,
   "id": "3357cbdd",
   "metadata": {},
   "outputs": [],
   "source": [
    "# from sklearn.cluster import KMeans\n",
    "\n",
    "# Sum_of_squared_distances = []\n",
    "# K = range(1,50)\n",
    "# for num_clusters in K :\n",
    "#  kmeans = KMeans(n_clusters=num_clusters)\n",
    "#  kmeans.fit(XY)\n",
    "#  Sum_of_squared_distances.append(kmeans.inertia_)\n",
    "# plt.plot(K,Sum_of_squared_distances,'bx-')\n",
    "# plt.xlabel('Values of K') \n",
    "# plt.ylabel('Sum of squared distances/Inertia') \n",
    "# plt.title('Elbow Method For Optimal k')\n",
    "# plt.show()"
   ]
  },
  {
   "cell_type": "code",
   "execution_count": 7,
   "id": "407d3eec",
   "metadata": {},
   "outputs": [],
   "source": [
    "# from sklearn.cluster import KMeans\n",
    "# kmeans = KMeans(n_clusters=20, random_state=1234)\n",
    "# label = kmeans.fit_predict(XY)\n",
    "\n",
    "# centroids = kmeans.cluster_centers_\n",
    "# u_labels = np.unique(label)\n",
    " \n",
    "# #plotting the results:\n",
    " \n",
    "# for i in u_labels:\n",
    "#     plt.scatter(XY[label == i , 0] , XY[label == i , 1] , label = i)\n",
    "# plt.scatter(centroids[:,0] , centroids[:,1] , s = 10, color = 'k')\n",
    "# # plt.legend()\n",
    "# plt.show()\n",
    "\n",
    "# df = pd.DataFrame(XY,columns=['X','Y'])\n",
    "# df['lbl'] = label\n",
    "# df['demand'] = df__C1_2_1['DEMAND']\n",
    "\n",
    "# groupy = df.groupby('lbl').sum()\n",
    "# max(groupy.demand)"
   ]
  },
  {
   "cell_type": "code",
   "execution_count": 8,
   "id": "c92f6700",
   "metadata": {},
   "outputs": [],
   "source": [
    "# df['cust_no'] = df__C1_2_1['CUST NO.']"
   ]
  },
  {
   "cell_type": "code",
   "execution_count": 9,
   "id": "a2c908d0",
   "metadata": {},
   "outputs": [],
   "source": [
    "# c_1_2_1 = pd.read_csv('MLC_project_sol_C1_2_1.csv',header=None)\n",
    "# c_1_2_1"
   ]
  },
  {
   "cell_type": "code",
   "execution_count": 10,
   "id": "94d63248",
   "metadata": {},
   "outputs": [],
   "source": [
    "# df['ready'] = df__C1_2_1['READY TIME']\n",
    "# df['due'] = df__C1_2_1['DUE DATE']"
   ]
  },
  {
   "cell_type": "code",
   "execution_count": 88,
   "id": "24771b38",
   "metadata": {},
   "outputs": [],
   "source": [
    "# for i in df.lbl.unique():\n",
    "#     if df[df.lbl==i].demand.sum() > 200:\n",
    "#         print(i)"
   ]
  },
  {
   "cell_type": "code",
   "execution_count": 87,
   "id": "6aa03650",
   "metadata": {},
   "outputs": [],
   "source": [
    "# df[df.lbl==17].sort_values(by='ready',ascending=True)"
   ]
  },
  {
   "cell_type": "code",
   "execution_count": 11,
   "id": "6fcbd545",
   "metadata": {},
   "outputs": [],
   "source": [
    "# u_labels"
   ]
  },
  {
   "cell_type": "code",
   "execution_count": 12,
   "id": "71dc762f",
   "metadata": {},
   "outputs": [],
   "source": [
    "# X = np.asarray(df__C1_2_1['READY TIME'])\n",
    "# Y = np.asarray(df__C1_2_1['DUE DATE'])\n",
    "# XY = np.array((X,Y)).T"
   ]
  },
  {
   "cell_type": "code",
   "execution_count": 13,
   "id": "f733a03c",
   "metadata": {},
   "outputs": [],
   "source": [
    "\n",
    "\n",
    "# kmeans = KMeans(n_clusters=20, random_state=1234)\n",
    "# label = kmeans.fit_predict(XY)\n",
    "\n",
    "# centroids = kmeans.cluster_centers_\n",
    "# u_labels = np.unique(label)\n",
    " \n",
    "# #plotting the results:\n",
    " \n",
    "# for i in u_labels:\n",
    "#     plt.scatter(XY[label == i , 0] , XY[label == i , 1] , label = i)\n",
    "# plt.scatter(centroids[:,0] , centroids[:,1] , s = 10, color = 'k')\n",
    "# # plt.legend()\n",
    "# plt.show()\n",
    "\n",
    "# df = pd.DataFrame(XY)\n",
    "# df['lbl'] = label\n",
    "# df['demand'] = df__C1_2_1['DEMAND']\n",
    "\n",
    "# groupy = df.groupby('lbl').sum()\n",
    "# max(groupy.demand)"
   ]
  },
  {
   "cell_type": "code",
   "execution_count": 14,
   "id": "14a843be",
   "metadata": {},
   "outputs": [],
   "source": [
    "# X = np.asarray(df__C1_2_1['XCOORD.'])\n",
    "# Y = np.asarray(df__C1_2_1['YCOORD.'])\n",
    "# XY = np.array((X,Y)).T\n",
    "# XY"
   ]
  },
  {
   "cell_type": "code",
   "execution_count": 15,
   "id": "620d18f3",
   "metadata": {},
   "outputs": [],
   "source": [
    "# kmeans = KMeans(n_clusters=20, random_state=1234)\n",
    "# label = kmeans.fit_predict(XY)\n",
    "\n",
    "# centroids = kmeans.cluster_centers_\n",
    "# u_labels = np.unique(label)\n",
    " \n",
    "# #plotting the results:\n",
    " \n",
    "# for i in u_labels:\n",
    "#     plt.scatter(XY[label == i , 0] , XY[label == i , 1] , label = i)\n",
    "# plt.scatter(centroids[:,0] , centroids[:,1] , s = 10, color = 'k')\n",
    "# # plt.legend()\n",
    "# plt.show()\n",
    "\n",
    "# df = pd.DataFrame(XY)\n",
    "# df__C1_2_1['lbl'] = label\n",
    "# df__C1_2_1['demand'] = df__C1_2_1['DEMAND']\n",
    "\n",
    "# groupy = df__C1_2_1.groupby('lbl').sum()\n",
    "# max(groupy.demand)"
   ]
  },
  {
   "cell_type": "code",
   "execution_count": 83,
   "id": "3de295cb",
   "metadata": {},
   "outputs": [],
   "source": [
    "\n",
    "# df17 = df[df.lbl==17].sort_values(by='READY TIME',ascending=True).reset_index()\n",
    "# df17['diff'] = df17['READY TIME'] - df17['DUE DATE'].shift(1)\n",
    "# df17 = df17.replace(np.nan,0)\n",
    "# df17"
   ]
  },
  {
   "cell_type": "code",
   "execution_count": 84,
   "id": "10bd1846",
   "metadata": {},
   "outputs": [],
   "source": [
    "# df17['outlier'] = ''\n",
    "# mean = df17['diff'].mean()\n",
    "# std = df17['diff'].std()\n",
    "\n",
    "# df17.loc[abs(df17['diff'] - mean)/std > 2,\n",
    "# 'outlier'] = 'flag'\n",
    "\n",
    "# # df17"
   ]
  },
  {
   "cell_type": "code",
   "execution_count": 16,
   "id": "34720df9",
   "metadata": {},
   "outputs": [],
   "source": [
    "os.chdir('C:/Users/medco/OneDrive/Documents/GitHub/MLC_VRPTW/data_mlc')\n",
    "files = os.listdir('C:/Users/medco/OneDrive/Documents/GitHub/MLC_VRPTW/data_mlc')\n",
    "\n",
    "datanames = []\n",
    "\n",
    "for f in files:\n",
    "    name = f[16:len(f)-4]\n",
    "    datanames.append('data'+name)\n",
    "    try:\n",
    "        df = pd.read_csv('{}'.format(f))\n",
    "        vars()['data'+name] = pd.DataFrame()\n",
    "        vars()['data'+name] = df\n",
    "    except KeyError:\n",
    "        print('help!')\n",
    "        continue"
   ]
  },
  {
   "cell_type": "code",
   "execution_count": 17,
   "id": "6a1055d3",
   "metadata": {},
   "outputs": [],
   "source": [
    "def optimalk(data, capacity):\n",
    "    X = np.asarray(data['XCOORD.'])\n",
    "    Y = np.asarray(data['YCOORD.'])\n",
    "    XY = np.array((X,Y)).T\n",
    "\n",
    "    for k in range(1,30):\n",
    "        kmeans = KMeans(n_clusters=k, random_state=1234)\n",
    "        label = kmeans.fit_predict(XY)\n",
    "\n",
    "        centroids = kmeans.cluster_centers_\n",
    "        u_labels = np.unique(label)\n",
    "\n",
    "        df = pd.DataFrame(XY)\n",
    "        data['lbl'] = label\n",
    "        df['lbl'] = data['lbl']\n",
    "        df['demand'] = data['DEMAND']\n",
    "\n",
    "        groupy = df.groupby('lbl').agg({'demand':'sum'}).reset_index()\n",
    "        maximum = max(groupy['demand'])\n",
    "        if maximum > capacity:\n",
    "            continue\n",
    "        else:\n",
    "            return k"
   ]
  },
  {
   "cell_type": "code",
   "execution_count": 85,
   "id": "9493fbbb",
   "metadata": {},
   "outputs": [],
   "source": [
    "# optimalk(data_C1_2_1, 200)"
   ]
  },
  {
   "cell_type": "code",
   "execution_count": 86,
   "id": "e7b5ae7e",
   "metadata": {},
   "outputs": [],
   "source": [
    "# sorted = data_C1_2_1.groupby([\"lbl\",\"CUST NO.\",\"READY TIME\"]).sum()\n",
    "# sorted = sorted.sort_values(by=[\"lbl\",\"READY TIME\"], ascending=True)\n",
    "# sorted.to_csv(\"temp.csv\")"
   ]
  },
  {
   "cell_type": "code",
   "execution_count": 18,
   "id": "0f0170b7",
   "metadata": {},
   "outputs": [],
   "source": [
    "# capacities = []\n",
    "\n",
    "# for d in datanames:\n",
    "#     if \"RC\" in d:\n",
    "#         if d[10] != '_':\n",
    "#             c = d[9:11]\n",
    "#         else:\n",
    "#             c = d[9:10]\n",
    "#     else:\n",
    "#         if d[9] != '_':\n",
    "#             c = d[8:10]\n",
    "#         else:\n",
    "#             c = d[8:9]\n",
    "\n",
    "#     capacities.append(int(c)*100)"
   ]
  },
  {
   "cell_type": "code",
   "execution_count": 19,
   "id": "f375b774",
   "metadata": {},
   "outputs": [],
   "source": [
    "# cap = pd.DataFrame(capacities,columns=['capacities'])\n",
    "# cap['name'] = list(datanames)\n",
    "# # cap"
   ]
  },
  {
   "cell_type": "code",
   "execution_count": 28,
   "id": "8dd5ef7f",
   "metadata": {},
   "outputs": [],
   "source": [
    "# success = []\n",
    "\n",
    "# for index, row in cap.iterrows():\n",
    "#    limit = row['capacities']\n",
    "#    result = optimalk(vars()[row['name']], limit)\n",
    "#    if result != None:\n",
    "#       success.append(row['name'])\n"
   ]
  },
  {
   "cell_type": "code",
   "execution_count": 21,
   "id": "3a85f4a9",
   "metadata": {},
   "outputs": [],
   "source": [
    "# success = pd.DataFrame(success, columns=['Dataset Name'])\n",
    "# success.to_csv('optimalk_under30.csv'\n",
    "# )"
   ]
  },
  {
   "cell_type": "code",
   "execution_count": 22,
   "id": "657065b1",
   "metadata": {},
   "outputs": [],
   "source": [
    "# route planning\n",
    "os.chdir('C:/Users/medco/OneDrive/Documents/GitHub/MLC_VRPTW')\n",
    "success = pd.read_csv(\"optimalk_under30.csv\")\n",
    "# success\n"
   ]
  },
  {
   "cell_type": "code",
   "execution_count": 66,
   "id": "50b85114",
   "metadata": {},
   "outputs": [],
   "source": [
    "# os.chdir('C:/Users/medco/OneDrive/Documents/GitHub/MLC_VRPTW/data_mlc')\n",
    "# files = os.listdir('C:/Users/medco/OneDrive/Documents/GitHub/MLC_VRPTW/data_mlc')\n",
    "\n",
    "# for f in files:\n",
    "#     name = f[16:len(f)-4]\n",
    "#     try:\n",
    "#         df = pd.read_csv('{}'.format(f))\n",
    "#         vars()['df_'+name] = df\n",
    "#     except KeyError:\n",
    "#         print('help!')\n",
    "#         continue"
   ]
  },
  {
   "cell_type": "code",
   "execution_count": 23,
   "id": "1d344592",
   "metadata": {},
   "outputs": [],
   "source": [
    "#MUST ALWAYS RUN\n",
    "\n",
    "for index, row in success.iterrows():\n",
    "    optimalk = row[\"Optimal K\"]\n",
    "    X = np.asarray(vars()[row[\"Dataset Name\"]]['XCOORD.'])\n",
    "    Y = np.asarray(vars()[row[\"Dataset Name\"]]['YCOORD.'])\n",
    "    XY = np.array((X,Y)).T\n",
    "\n",
    "    kmeans = KMeans(n_clusters=optimalk, random_state=1234)\n",
    "    label = kmeans.fit_predict(XY)\n",
    "\n",
    "    vars()[row[\"Dataset Name\"]]['lbl'] = label"
   ]
  },
  {
   "cell_type": "code",
   "execution_count": 24,
   "id": "f5eb9b08",
   "metadata": {},
   "outputs": [],
   "source": [
    "# os.chdir('C:/Users/medco/OneDrive/Documents/GitHub/MLC_VRPTW/sorted')\n",
    "\n",
    "# for index, row in success.iterrows():\n",
    "#     for lbl in vars()[row[\"Dataset Name\"]][\"lbl\"].unique():\n",
    "#         temp = vars()[row[\"Dataset Name\"]][vars()[row[\"Dataset Name\"]].lbl==lbl].groupby([\"lbl\",\"CUST NO.\",\"READY TIME\"]).sum().reset_index()\n",
    "#         temp = temp.sort_values(by=[\"lbl\",\"READY TIME\",\"DUE DATE\"], ascending=True)\n",
    "#         filename = row[\"Dataset Name\"]+\"_cluster_\"+str(lbl)+\".csv\"\n",
    "#         temp2 = temp[[\"CUST NO.\",\"READY TIME\"]]\n",
    "#         temp2[\"source\"] = temp2[\"CUST NO.\"]\n",
    "#         temp2[\"target\"] = temp2[\"CUST NO.\"].shift(-1)\n",
    "#         temp2[\"weight\"] = 1\n",
    "#         temp2 = temp2.drop(columns={\"CUST NO.\",\"READY TIME\"})\n",
    "#         #temp = temp.drop(columns={\"SERVICE TIME\"}) #works if we want to clean the resulting .csv files up\n",
    "#         temp2.to_csv(filename)"
   ]
  },
  {
   "cell_type": "code",
   "execution_count": 25,
   "id": "be150001",
   "metadata": {},
   "outputs": [],
   "source": [
    "import networkx as nx"
   ]
  },
  {
   "attachments": {},
   "cell_type": "markdown",
   "id": "fecc3b31",
   "metadata": {},
   "source": [
    "## Network Analysis\n",
    "\n",
    "To achieve this, we'd have to get the list of customers from the original dataset (nodes). Then we create a dictionary between those customers and their X/Y coordinates (pos). Then we take the cluster data in the sorted folder and add edges to the nodes. \n",
    "\n",
    "Because of the folder differences between OG datasets and cluster .csv files, we're going to need to conduct a few directory changes within the GitHub repo. Speaking of which, it would be good to change the filepath to pull from github itself rather than my local file/folder system (Matthew)\n",
    "\n",
    "- We'd also want to add an edge to each cluster group from the depot to the first customer and then from the last customer to the depot\n",
    "- currently \"weight\" is completely arbitary (weight = 1) based on a Stack Overflow article, but we can possibly think of a way to add some dynamism to it\n",
    "- Before we draw any of the cluster maps, we're going to need to concatenate the cluster datasets back together, which shouldn't be that hard, just a necessary extra step\n",
    "\n",
    "At this point, we'll have a visual depiction of the clusters and the routes\n",
    "\n",
    "From there it's just a matter of how we can optimize any of these routes"
   ]
  },
  {
   "cell_type": "code",
   "execution_count": 26,
   "id": "bb306658",
   "metadata": {},
   "outputs": [],
   "source": [
    "os.chdir('C:/Users/medco/OneDrive/Documents/GitHub/MLC_VRPTW/data_mlc')\n",
    "files = os.listdir('C:/Users/medco/OneDrive/Documents/GitHub/MLC_VRPTW/data_mlc')\n",
    "\n",
    "datanames = []\n",
    "\n",
    "for f in files:\n",
    "    name = f[16:len(f)-4]\n",
    "    datanames.append('data'+name)\n",
    "    try:\n",
    "        df = pd.read_csv('{}'.format(f))\n",
    "        vars()['data'+name] = pd.DataFrame()\n",
    "        vars()['data'+name] = df\n",
    "    except KeyError:\n",
    "        print('help!')\n",
    "        continue"
   ]
  },
  {
   "cell_type": "code",
   "execution_count": 27,
   "id": "e109ea44",
   "metadata": {},
   "outputs": [],
   "source": [
    "for index, row in success.iterrows():\n",
    "    optimalk = row[\"Optimal K\"]\n",
    "    X = np.asarray(vars()[row[\"Dataset Name\"]]['XCOORD.'])\n",
    "    Y = np.asarray(vars()[row[\"Dataset Name\"]]['YCOORD.'])\n",
    "    XY = np.array((X,Y)).T\n",
    "\n",
    "    kmeans = KMeans(n_clusters=optimalk, random_state=1234)\n",
    "    label = kmeans.fit_predict(XY)\n",
    "\n",
    "    vars()[row[\"Dataset Name\"]]['lbl'] = label"
   ]
  },
  {
   "cell_type": "code",
   "execution_count": 75,
   "id": "879e5ceb",
   "metadata": {},
   "outputs": [],
   "source": [
    "Routes = nx.Graph()\n",
    "Routes.add_nodes_from(data_C1_2_1[\"CUST NO.\"])\n",
    "color_map = []\n",
    "for index, row in data_C1_2_1.iterrows():\n",
    "    nodecolor = row[\"lbl\"]\n",
    "    color_map.append(nodecolor)"
   ]
  },
  {
   "cell_type": "code",
   "execution_count": 76,
   "id": "2e747caa",
   "metadata": {},
   "outputs": [],
   "source": [
    "CustPos={c:(data_C1_2_1['XCOORD.'][c],data_C1_2_1['YCOORD.'][c])\n",
    "         for c in data_C1_2_1.index}"
   ]
  },
  {
   "cell_type": "code",
   "execution_count": 77,
   "id": "be33f06f",
   "metadata": {},
   "outputs": [],
   "source": [
    "os.chdir('C:/Users/medco/OneDrive/Documents/GitHub/MLC_VRPTW/sorted')\n",
    "\n",
    "links = pd.DataFrame()\n",
    "\n",
    "for i in range(0,21):\n",
    "    temp = pd.read_csv(\"data_C1_2_1_cluster_\"+str(i)+\".csv\", index_col=None)\n",
    "    links = pd.concat([links,temp])\n",
    "\n",
    "links = links.replace(np.nan,0)\n",
    "links['target'] = links['target'].astype(\"int64\")\n",
    "links['source'] = links['source'].astype(\"int64\")\n",
    "links.reset_index(inplace=True,drop=True)\n",
    "# links"
   ]
  },
  {
   "cell_type": "code",
   "execution_count": 78,
   "id": "c2fc1ea2",
   "metadata": {},
   "outputs": [],
   "source": [
    "EN=len(links.index)\n",
    "edgelist=[(links['source'][j],links['target'][j]) for j in range(EN)]\n",
    "# edgelist"
   ]
  },
  {
   "cell_type": "code",
   "execution_count": 79,
   "id": "52f9567e",
   "metadata": {},
   "outputs": [
    {
     "data": {
      "image/png": "[encoded data removed]",
      "text/plain": [
       "<Figure size 864x432 with 1 Axes>"
      ]
     },
     "metadata": {},
     "output_type": "display_data"
    }
   ],
   "source": [
    "os.chdir('C:/Users/medco/OneDrive/Documents/GitHub/MLC_VRPTW/cluster route maps')\n",
    "\n",
    "Routes.add_edges_from(edgelist)\n",
    "#visualize the network\n",
    "plt.figure(figsize = (12,6))\n",
    "nx.draw(Routes,\n",
    "pos=CustPos,\n",
    "with_labels=False,\n",
    "arrows=True,\n",
    "node_size=15,\n",
    "style='dotted',\n",
    "edge_color='black',\n",
    "node_color = color_map\n",
    ") \n",
    "plt.title(\"Cluster Routes for Dataset C1_2_1\", fontsize=16)\n",
    "# plt.savefig(\"\")\n",
    "plt.show()"
   ]
  },
  {
   "cell_type": "code",
   "execution_count": 30,
   "id": "36451a95",
   "metadata": {},
   "outputs": [],
   "source": [
    "for index, row in success.iterrows():\n",
    "    os.chdir('C:/Users/medco/OneDrive/Documents/GitHub/MLC_VRPTW/data_mlc')\n",
    "\n",
    "    Routes = nx.Graph()\n",
    "    Routes.add_nodes_from(vars()[row[\"Dataset Name\"]][\"CUST NO.\"])\n",
    "    color_map = []\n",
    "    for idx, rw in vars()[row[\"Dataset Name\"]].iterrows():\n",
    "        nodecolor = rw[\"lbl\"]\n",
    "        color_map.append(nodecolor)\n",
    "\n",
    "    temp = vars()[row[\"Dataset Name\"]]\n",
    "    CustPos={c:(temp['XCOORD.'][c], temp['YCOORD.'][c]) \n",
    "        for c in temp.index}\n",
    "\n",
    "    os.chdir('C:/Users/medco/OneDrive/Documents/GitHub/MLC_VRPTW/sorted')\n",
    "\n",
    "    links = pd.DataFrame()\n",
    "\n",
    "    for i in range(0,temp[\"lbl\"].max()+1):\n",
    "        temp = pd.read_csv(row[\"Dataset Name\"]+\"_cluster_\"+str(i)+\".csv\", index_col=None)\n",
    "        links = pd.concat([links,temp])\n",
    "\n",
    "    links = links.replace(np.nan,0)\n",
    "    links['target'] = links['target'].astype(\"int64\")\n",
    "    links['source'] = links['source'].astype(\"int64\")\n",
    "    links.reset_index(inplace=True,drop=True)\n",
    "\n",
    "    EN=len(links.index)\n",
    "    edgelist=[(links['source'][j],links['target'][j]) for j in range(EN)]\n",
    "\n",
    "    os.chdir('C:/Users/medco/OneDrive/Documents/GitHub/MLC_VRPTW/cluster route maps')\n",
    "\n",
    "    Routes.add_edges_from(edgelist)\n",
    "\n",
    "    plt.figure(figsize = (12,6))\n",
    "    nx.draw(Routes,\n",
    "        pos=CustPos,\n",
    "        with_labels=False,\n",
    "        arrows=True,\n",
    "        node_size=15,\n",
    "        style='dotted',\n",
    "        edge_color='black',\n",
    "        node_color = color_map\n",
    "            ) \n",
    "    plt.title(\"Cluster Routes for Dataset \"+row[\"Dataset Name\"][5:], fontsize=16)\n",
    "    plt.savefig(row[\"Dataset Name\"]+\"_cluster_routes_map.png\")\n",
    "    plt.close() \n",
    "\n",
    "    "
   ]
  }
 ],
 "metadata": {
  "kernelspec": {
   "display_name": "base",
   "language": "python",
   "name": "python3"
  },
  "language_info": {
   "codemirror_mode": {
    "name": "ipython",
    "version": 3
   },
   "file_extension": ".py",
   "mimetype": "text/x-python",
   "name": "python",
   "nbconvert_exporter": "python",
   "pygments_lexer": "ipython3",
   "version": "3.9.7"
  },
  "vscode": {
   "interpreter": {
    "hash": "b29781cd72b091da362991fed2e4b70437b2e4bb8b924b79b0152ed083afc703"
   }
  }
 },
 "nbformat": 4,
 "nbformat_minor": 5
}
